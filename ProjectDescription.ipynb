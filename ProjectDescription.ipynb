This project presents an implementation of an architecture for the detection of a human body using techniques of neural networking and deep learning, jointly called as a system of Artificial Neural Networking(ANN).  The process at a high level is to use the concepts of development of the architecture, rule of activity and rule of learning.  
The data base is split into five fully disjoint sets, three for training. Each set consists of 4800 pedestrian examples obtained from 800 pedestrian labels by mirroring and shifting, plus 5000 non-pedestrian examples
The input is through a camera, which captures video and ANN in turn consumes this data and using the training data classifies and predicts the human posture and outputs the results by applying a rectangle on the human figure in the video.

Relevance to the industry:  Several industries need a system of detection of the human form and its postures for example a security system, autonomous vehicles etc. 
